{
 "cells": [
  {
   "cell_type": "markdown",
   "id": "2e971d41",
   "metadata": {},
   "source": [
    "# Electoral Data Analysis"
   ]
  },
  {
   "cell_type": "markdown",
   "id": "a2d636df",
   "metadata": {},
   "source": [
    "### Electoral Data Analysis : \n",
    "\n",
    "The data attached includes the past election results at the assembly constituency level\n",
    "(Bihar_Election_Results.csv)\n",
    "\n",
    "a. Determine the winning party for every election at the state level. A party which has the highest total votes is considered the winner here.\n",
    "\n",
    "b. determine the list of swing seats for the state. A swing seat is a constituency which has a different winner in every election. The elections are held in the order 2005-Feb, 2005-Oct, 2010 and 2015.\n",
    "\n",
    "c. Determine the top 8 parties at the state-level in each election in terms of getting the most votes.\n",
    "\n",
    "d. Determine the minimum votes that each party in the top 8 of the 2015 election secured among all the past elections. Do this for all constituencies.\n",
    "\n",
    "e. Determine the consistently tri-polar constituencies. I.e Constituencies in which 3 parties or more got greater than 10% of the vote shares in each election. The parties can be different for different elections.\n",
    "\n",
    "f. Determine the stronghold party-seats. A stronghold seat is one that is won by the same party in all the elections.\n",
    "\n",
    "g. Determine close contest constituencies. Close contest seats are those in which the top 2 finishers had a difference of less than 10% votes. Find seats in which there was a close contest in all the elections. If there is no such seat, then relax the criteria to 15%.\n",
    "\n",
    "h. Find the growing seats. For the top 8 parties at the state-level in the 2005-Feb Election, Determine the seats in which these parties have continuously increased their votes in the next 3 elections.\n",
    "\n",
    "i. Find the declining seats. Repeat exercise g for the opposite growth.\n",
    "\n",
    "j. Determine the state-winner-match constituencies. Find the seats which have always elected the party that has gone on to win the state election (most votes secured at state). So if the RJD won at the state level in 2010, then seats which\n",
    "voted an RJD candidate as winner are considered in this category. This criteria for a seat has to be matched for each election."
   ]
  },
  {
   "cell_type": "code",
   "execution_count": 1,
   "id": "9185b9c2",
   "metadata": {},
   "outputs": [],
   "source": [
    "# Importing required libraries\n",
    "import pandas as pd\n",
    "import numpy as np\n",
    "import seaborn as sns\n",
    "import matplotlib.pyplot as plt\n",
    "%matplotlib inline\n",
    "import warnings\n",
    "warnings.filterwarnings(action = 'ignore')"
   ]
  },
  {
   "cell_type": "code",
   "execution_count": 2,
   "id": "8bb81d3d",
   "metadata": {},
   "outputs": [
    {
     "data": {
      "text/html": [
       "<div>\n",
       "<style scoped>\n",
       "    .dataframe tbody tr th:only-of-type {\n",
       "        vertical-align: middle;\n",
       "    }\n",
       "\n",
       "    .dataframe tbody tr th {\n",
       "        vertical-align: top;\n",
       "    }\n",
       "\n",
       "    .dataframe thead th {\n",
       "        text-align: right;\n",
       "    }\n",
       "</style>\n",
       "<table border=\"1\" class=\"dataframe\">\n",
       "  <thead>\n",
       "    <tr style=\"text-align: right;\">\n",
       "      <th></th>\n",
       "      <th>Election Year</th>\n",
       "      <th>Position</th>\n",
       "      <th>Name</th>\n",
       "      <th>Votes</th>\n",
       "      <th>Votes %</th>\n",
       "      <th>Party</th>\n",
       "      <th>AC name</th>\n",
       "      <th>AC No</th>\n",
       "    </tr>\n",
       "  </thead>\n",
       "  <tbody>\n",
       "    <tr>\n",
       "      <th>0</th>\n",
       "      <td>2010</td>\n",
       "      <td>1</td>\n",
       "      <td>Rajesh Singh</td>\n",
       "      <td>42289</td>\n",
       "      <td>29.40%</td>\n",
       "      <td>Janata Dal (United)</td>\n",
       "      <td>Valmiki Nagar</td>\n",
       "      <td>1</td>\n",
       "    </tr>\n",
       "    <tr>\n",
       "      <th>1</th>\n",
       "      <td>2010</td>\n",
       "      <td>2</td>\n",
       "      <td>Mukesh Kumar Kushwaha</td>\n",
       "      <td>27618</td>\n",
       "      <td>19.20%</td>\n",
       "      <td>Rashtriya Janata Dal</td>\n",
       "      <td>Valmiki Nagar</td>\n",
       "      <td>1</td>\n",
       "    </tr>\n",
       "    <tr>\n",
       "      <th>2</th>\n",
       "      <td>2010</td>\n",
       "      <td>3</td>\n",
       "      <td>Dheerendra Pratap Singh</td>\n",
       "      <td>20886</td>\n",
       "      <td>14.50%</td>\n",
       "      <td>Bahujan Samaj Party</td>\n",
       "      <td>Valmiki Nagar</td>\n",
       "      <td>1</td>\n",
       "    </tr>\n",
       "    <tr>\n",
       "      <th>3</th>\n",
       "      <td>2010</td>\n",
       "      <td>4</td>\n",
       "      <td>Irshad Hussain</td>\n",
       "      <td>17747</td>\n",
       "      <td>12.40%</td>\n",
       "      <td>Indian National Congress</td>\n",
       "      <td>Valmiki Nagar</td>\n",
       "      <td>1</td>\n",
       "    </tr>\n",
       "    <tr>\n",
       "      <th>4</th>\n",
       "      <td>2010</td>\n",
       "      <td>5</td>\n",
       "      <td>Deep Narayan Mahato</td>\n",
       "      <td>14047</td>\n",
       "      <td>9.80%</td>\n",
       "      <td>Independent</td>\n",
       "      <td>Valmiki Nagar</td>\n",
       "      <td>1</td>\n",
       "    </tr>\n",
       "  </tbody>\n",
       "</table>\n",
       "</div>"
      ],
      "text/plain": [
       "  Election Year  Position                     Name  Votes Votes %  \\\n",
       "0          2010         1             Rajesh Singh  42289  29.40%   \n",
       "1          2010         2    Mukesh Kumar Kushwaha  27618  19.20%   \n",
       "2          2010         3  Dheerendra Pratap Singh  20886  14.50%   \n",
       "3          2010         4           Irshad Hussain  17747  12.40%   \n",
       "4          2010         5      Deep Narayan Mahato  14047   9.80%   \n",
       "\n",
       "                      Party        AC name  AC No  \n",
       "0       Janata Dal (United)  Valmiki Nagar      1  \n",
       "1      Rashtriya Janata Dal  Valmiki Nagar      1  \n",
       "2       Bahujan Samaj Party  Valmiki Nagar      1  \n",
       "3  Indian National Congress  Valmiki Nagar      1  \n",
       "4               Independent  Valmiki Nagar      1  "
      ]
     },
     "execution_count": 2,
     "metadata": {},
     "output_type": "execute_result"
    }
   ],
   "source": [
    "# Importing the dataset\n",
    "df = pd.read_csv('Bihar_Election_Results.csv')\n",
    "df.head()"
   ]
  },
  {
   "cell_type": "code",
   "execution_count": 3,
   "id": "76a4c8c8",
   "metadata": {},
   "outputs": [
    {
     "data": {
      "text/plain": [
       "(12301, 8)"
      ]
     },
     "execution_count": 3,
     "metadata": {},
     "output_type": "execute_result"
    }
   ],
   "source": [
    "df.shape\n",
    "# Our dataset contains 12,301 rows and 8 columns."
   ]
  },
  {
   "cell_type": "code",
   "execution_count": 4,
   "id": "08fb4ef0",
   "metadata": {},
   "outputs": [
    {
     "name": "stdout",
     "output_type": "stream",
     "text": [
      "<class 'pandas.core.frame.DataFrame'>\n",
      "RangeIndex: 12301 entries, 0 to 12300\n",
      "Data columns (total 8 columns):\n",
      " #   Column         Non-Null Count  Dtype \n",
      "---  ------         --------------  ----- \n",
      " 0   Election Year  12301 non-null  object\n",
      " 1   Position       12301 non-null  int64 \n",
      " 2   Name           12301 non-null  object\n",
      " 3   Votes          12301 non-null  int64 \n",
      " 4   Votes %        12301 non-null  object\n",
      " 5   Party          12301 non-null  object\n",
      " 6   AC name        12301 non-null  object\n",
      " 7   AC No          12301 non-null  int64 \n",
      "dtypes: int64(3), object(5)\n",
      "memory usage: 768.9+ KB\n"
     ]
    }
   ],
   "source": [
    "df.info()\n",
    "# Dataset information"
   ]
  },
  {
   "cell_type": "markdown",
   "id": "37706800",
   "metadata": {},
   "source": [
    "a. Determine the winning party for every election at the state level. \n",
    "A party which has the highest total votes is considered the winner here."
   ]
  },
  {
   "cell_type": "code",
   "execution_count": 5,
   "id": "5662e1c1",
   "metadata": {},
   "outputs": [],
   "source": [
    "# As per the question, we are considering the party which has got highest no. of total votes as the winner."
   ]
  },
  {
   "cell_type": "code",
   "execution_count": 6,
   "id": "d35b1036",
   "metadata": {},
   "outputs": [
    {
     "data": {
      "text/plain": [
       "2010        3523\n",
       "2015        3450\n",
       "2005-Feb    3193\n",
       "2005-Oct    2135\n",
       "Name: Election Year, dtype: int64"
      ]
     },
     "execution_count": 6,
     "metadata": {},
     "output_type": "execute_result"
    }
   ],
   "source": [
    "df['Election Year'].value_counts()"
   ]
  },
  {
   "cell_type": "code",
   "execution_count": 7,
   "id": "456dab81",
   "metadata": {},
   "outputs": [
    {
     "data": {
      "text/plain": [
       "Party\n",
       "Rashtriya Janata Dal    6140223\n",
       "Name: Votes, dtype: int64"
      ]
     },
     "execution_count": 7,
     "metadata": {},
     "output_type": "execute_result"
    }
   ],
   "source": [
    "df[df['Election Year'] == '2005-Feb'].groupby('Party')['Votes'].sum().sort_values(ascending = False).head(1)\n",
    "# 2005-Feb Election was won by Rashtriya Janata Dal."
   ]
  },
  {
   "cell_type": "code",
   "execution_count": 8,
   "id": "0cb76116",
   "metadata": {},
   "outputs": [
    {
     "data": {
      "text/plain": [
       "Party\n",
       "Rashtriya Janata Dal    5525081\n",
       "Name: Votes, dtype: int64"
      ]
     },
     "execution_count": 8,
     "metadata": {},
     "output_type": "execute_result"
    }
   ],
   "source": [
    "df[df['Election Year'] == '2005-Oct'].groupby('Party')['Votes'].sum().sort_values(ascending = False).head(1)\n",
    "# 2005-Oct Election was won by Rashtriya Janata Dal."
   ]
  },
  {
   "cell_type": "code",
   "execution_count": 9,
   "id": "e7b92b07",
   "metadata": {},
   "outputs": [
    {
     "data": {
      "text/plain": [
       "Party\n",
       "Rashtriya Janata Dal    5525081\n",
       "Name: Votes, dtype: int64"
      ]
     },
     "execution_count": 9,
     "metadata": {},
     "output_type": "execute_result"
    }
   ],
   "source": [
    "df[df['Election Year'] == '2010'].groupby('Party')['Votes'].sum().sort_values(ascending = False).head(1)\n",
    "df[df['Election Year'] == '2005-Oct'].groupby('Party')['Votes'].sum().sort_values(ascending = False).head(1)\n",
    "# 2010 Election was won by Janata Dal (United)."
   ]
  },
  {
   "cell_type": "code",
   "execution_count": 10,
   "id": "497ded52",
   "metadata": {},
   "outputs": [
    {
     "data": {
      "text/plain": [
       "Party\n",
       "Bharatiya Janta Party    9308015\n",
       "Name: Votes, dtype: int64"
      ]
     },
     "execution_count": 10,
     "metadata": {},
     "output_type": "execute_result"
    }
   ],
   "source": [
    "df[df['Election Year'] == '2015'].groupby('Party')['Votes'].sum().sort_values(ascending = False).head(1)\n",
    "# 2015 Election was won by Bharatiya Janta Party."
   ]
  },
  {
   "cell_type": "markdown",
   "id": "8471ef31",
   "metadata": {},
   "source": [
    "b. Determine the list of swing seats for the state. A swing seat is a constituency\n",
    "which has a different winner in every election. The elections are held in the order\n",
    "2005-Feb, 2005-Oct, 2010 and 2015.\n",
    "\n",
    "\n"
   ]
  },
  {
   "cell_type": "code",
   "execution_count": 11,
   "id": "b662ef2b",
   "metadata": {},
   "outputs": [],
   "source": [
    "df1 = df[df['Election Year'] == '2005-Feb']\n",
    "df2 = df[df['Election Year'] == '2005-Oct']\n",
    "df3= df[df['Election Year'] == '2010']\n",
    "df4 = df[df['Election Year'] == '2015']\n",
    "\n",
    "A1 = pd.DataFrame(df1[df1['Position'] == 1].groupby(['AC No','Party'])['Votes'].max())\n",
    "A1.reset_index(inplace = True)\n",
    "\n",
    "A2 = pd.DataFrame(df2[df2['Position'] == 1].groupby(['AC No','Party'])['Votes'].max())\n",
    "A2.reset_index(inplace = True)\n",
    "\n",
    "A3 = pd.DataFrame(df3[df3['Position'] == 1].groupby(['AC No','Party'])['Votes'].max())\n",
    "A3.reset_index(inplace = True)\n",
    "\n",
    "A4 = pd.DataFrame(df4[df4['Position'] == 1].groupby(['AC No','Party'])['Votes'].max())\n",
    "A4.reset_index(inplace = True)\n",
    "\n",
    "A5 = pd.DataFrame()\n",
    "A5['AC No'] = A1['AC No']\n",
    "A5['2005-Feb'] = A1['Party']\n",
    "A5['2005-Oct'] = A2['Party']\n",
    "A5['2010'] = A3['Party']\n",
    "A5['2015'] = A4['Party']"
   ]
  },
  {
   "cell_type": "code",
   "execution_count": 12,
   "id": "488c51fd",
   "metadata": {},
   "outputs": [
    {
     "data": {
      "text/html": [
       "<div>\n",
       "<style scoped>\n",
       "    .dataframe tbody tr th:only-of-type {\n",
       "        vertical-align: middle;\n",
       "    }\n",
       "\n",
       "    .dataframe tbody tr th {\n",
       "        vertical-align: top;\n",
       "    }\n",
       "\n",
       "    .dataframe thead th {\n",
       "        text-align: right;\n",
       "    }\n",
       "</style>\n",
       "<table border=\"1\" class=\"dataframe\">\n",
       "  <thead>\n",
       "    <tr style=\"text-align: right;\">\n",
       "      <th></th>\n",
       "      <th>AC No</th>\n",
       "      <th>2005-Feb</th>\n",
       "      <th>2005-Oct</th>\n",
       "      <th>2010</th>\n",
       "      <th>2015</th>\n",
       "    </tr>\n",
       "  </thead>\n",
       "  <tbody>\n",
       "    <tr>\n",
       "      <th>3</th>\n",
       "      <td>4</td>\n",
       "      <td>Nationalist Congress Party</td>\n",
       "      <td>Bharatiya Janta Party</td>\n",
       "      <td>Janata Dal (United)</td>\n",
       "      <td>Bharatiya Janta Party</td>\n",
       "    </tr>\n",
       "    <tr>\n",
       "      <th>4</th>\n",
       "      <td>5</td>\n",
       "      <td>Samajwadi Party</td>\n",
       "      <td>Indian National Congress</td>\n",
       "      <td>Independent</td>\n",
       "      <td>Bharatiya Janta Party</td>\n",
       "    </tr>\n",
       "    <tr>\n",
       "      <th>17</th>\n",
       "      <td>17</td>\n",
       "      <td>Bharatiya Janta Party</td>\n",
       "      <td>Rashtriya Janata Dal</td>\n",
       "      <td>Janata Dal (United)</td>\n",
       "      <td>Bharatiya Janta Party</td>\n",
       "    </tr>\n",
       "    <tr>\n",
       "      <th>18</th>\n",
       "      <td>17</td>\n",
       "      <td>Independent</td>\n",
       "      <td>Lok Jan Shakti Party</td>\n",
       "      <td>Bharatiya Janta Party</td>\n",
       "      <td>Rashtriya Janata Dal</td>\n",
       "    </tr>\n",
       "    <tr>\n",
       "      <th>20</th>\n",
       "      <td>19</td>\n",
       "      <td>Lok Jan Shakti Party</td>\n",
       "      <td>Bahujan Samaj Party</td>\n",
       "      <td>Independent</td>\n",
       "      <td>Bharatiya Janta Party</td>\n",
       "    </tr>\n",
       "    <tr>\n",
       "      <th>...</th>\n",
       "      <td>...</td>\n",
       "      <td>...</td>\n",
       "      <td>...</td>\n",
       "      <td>...</td>\n",
       "      <td>...</td>\n",
       "    </tr>\n",
       "    <tr>\n",
       "      <th>229</th>\n",
       "      <td>230</td>\n",
       "      <td>Lok Jan Shakti Party</td>\n",
       "      <td>Janata Dal (United)</td>\n",
       "      <td>Rashtriya Janata Dal</td>\n",
       "      <td>Bharatiya Janta Party</td>\n",
       "    </tr>\n",
       "    <tr>\n",
       "      <th>234</th>\n",
       "      <td>235</td>\n",
       "      <td>Rashtriya Janata Dal</td>\n",
       "      <td>Bharatiya Janta Party</td>\n",
       "      <td>Janata Dal (United)</td>\n",
       "      <td>Rashtriya Janata Dal</td>\n",
       "    </tr>\n",
       "    <tr>\n",
       "      <th>239</th>\n",
       "      <td>240</td>\n",
       "      <td>Rashtriya Janata Dal</td>\n",
       "      <td>Bharatiya Janta Party</td>\n",
       "      <td>Janata Dal (United)</td>\n",
       "      <td>Indian National Congress</td>\n",
       "    </tr>\n",
       "    <tr>\n",
       "      <th>241</th>\n",
       "      <td>242</td>\n",
       "      <td>Lok Jan Shakti Party</td>\n",
       "      <td>Independent</td>\n",
       "      <td>NaN</td>\n",
       "      <td>Bharatiya Janta Party</td>\n",
       "    </tr>\n",
       "    <tr>\n",
       "      <th>242</th>\n",
       "      <td>243</td>\n",
       "      <td>Indian National Congress</td>\n",
       "      <td>Bharatiya Janta Party</td>\n",
       "      <td>NaN</td>\n",
       "      <td>Rashtriya Janata Dal</td>\n",
       "    </tr>\n",
       "  </tbody>\n",
       "</table>\n",
       "<p>85 rows × 5 columns</p>\n",
       "</div>"
      ],
      "text/plain": [
       "     AC No                    2005-Feb                  2005-Oct  \\\n",
       "3        4  Nationalist Congress Party     Bharatiya Janta Party   \n",
       "4        5             Samajwadi Party  Indian National Congress   \n",
       "17      17       Bharatiya Janta Party      Rashtriya Janata Dal   \n",
       "18      17                 Independent      Lok Jan Shakti Party   \n",
       "20      19        Lok Jan Shakti Party       Bahujan Samaj Party   \n",
       "..     ...                         ...                       ...   \n",
       "229    230        Lok Jan Shakti Party       Janata Dal (United)   \n",
       "234    235        Rashtriya Janata Dal     Bharatiya Janta Party   \n",
       "239    240        Rashtriya Janata Dal     Bharatiya Janta Party   \n",
       "241    242        Lok Jan Shakti Party               Independent   \n",
       "242    243    Indian National Congress     Bharatiya Janta Party   \n",
       "\n",
       "                      2010                      2015  \n",
       "3      Janata Dal (United)     Bharatiya Janta Party  \n",
       "4              Independent     Bharatiya Janta Party  \n",
       "17     Janata Dal (United)     Bharatiya Janta Party  \n",
       "18   Bharatiya Janta Party      Rashtriya Janata Dal  \n",
       "20             Independent     Bharatiya Janta Party  \n",
       "..                     ...                       ...  \n",
       "229   Rashtriya Janata Dal     Bharatiya Janta Party  \n",
       "234    Janata Dal (United)      Rashtriya Janata Dal  \n",
       "239    Janata Dal (United)  Indian National Congress  \n",
       "241                    NaN     Bharatiya Janta Party  \n",
       "242                    NaN      Rashtriya Janata Dal  \n",
       "\n",
       "[85 rows x 5 columns]"
      ]
     },
     "execution_count": 12,
     "metadata": {},
     "output_type": "execute_result"
    }
   ],
   "source": [
    "A_5 = A5[(A5['2005-Feb'] != A5['2005-Oct']) & (A5['2005-Oct'] != A5['2010']) & (A5['2010'] != A5['2015'])]\n",
    "A_5"
   ]
  },
  {
   "cell_type": "code",
   "execution_count": 13,
   "id": "8043bbab",
   "metadata": {},
   "outputs": [
    {
     "name": "stdout",
     "output_type": "stream",
     "text": [
      "[4, 5, 17, 17, 19, 20, 21, 24, 25, 29, 30, 31, 32, 34, 36, 38, 46, 48, 49, 50, 51, 53, 54, 55, 58, 59, 61, 63, 65, 67, 68, 69, 71, 73, 76, 77, 79, 80, 81, 83, 84, 85, 88, 90, 92, 93, 94, 95, 97, 98, 100, 103, 106, 107, 108, 109, 113, 114, 117, 121, 123, 124, 133, 134, 137, 142, 156, 159, 165, 171, 172, 194, 196, 199, 201, 203, 209, 212, 218, 228, 230, 235, 240, 242, 243]\n"
     ]
    }
   ],
   "source": [
    "print(A_5['AC No'].tolist())\n",
    "# Below is the list of constituencies which categories as swing seats."
   ]
  },
  {
   "cell_type": "markdown",
   "id": "e964f22d",
   "metadata": {},
   "source": [
    "c. Determine the top 8 parties at the state-level in each election in terms of getting\n",
    "the most votes."
   ]
  },
  {
   "cell_type": "code",
   "execution_count": 14,
   "id": "6f3fa293",
   "metadata": {},
   "outputs": [
    {
     "data": {
      "text/plain": [
       "Party\n",
       "Rashtriya Janata Dal        6140223\n",
       "Independent                 3957945\n",
       "Janata Dal (United)         3564930\n",
       "Lok Jan Shakti Party        3091173\n",
       "Bharatiya Janta Party       2686290\n",
       "Indian National Congress    1223835\n",
       "Bahujan Samaj Party         1080745\n",
       "Samajwadi Party              658791\n",
       "Name: Votes, dtype: int64"
      ]
     },
     "execution_count": 14,
     "metadata": {},
     "output_type": "execute_result"
    }
   ],
   "source": [
    "df[df['Election Year'] == '2005-Feb'].groupby('Party')['Votes'].sum().sort_values(ascending = False).head(8)\n",
    "# In 2005-Feb Elections, following 8 parties secured the most votes."
   ]
  },
  {
   "cell_type": "code",
   "execution_count": 15,
   "id": "dfbb1a4f",
   "metadata": {},
   "outputs": [
    {
     "data": {
      "image/png": "[encoded data removed]",
      "text/plain": [
       "<Figure size 432x288 with 1 Axes>"
      ]
     },
     "metadata": {
      "needs_background": "light"
     },
     "output_type": "display_data"
    }
   ],
   "source": [
    "df[df['Election Year'] == '2005-Feb'].groupby('Party')['Votes'].sum().sort_values(ascending = False).head(8).plot(kind = 'bar', color = 'g')\n",
    "plt.title('Top 8 Performing Parties in 2005-Feb Elections', fontsize = 15)\n",
    "plt.show()"
   ]
  },
  {
   "cell_type": "code",
   "execution_count": 16,
   "id": "a5c6a8e6",
   "metadata": {},
   "outputs": [
    {
     "data": {
      "text/plain": [
       "Party\n",
       "Rashtriya Janata Dal        5525081\n",
       "Janata Dal (United)         4819759\n",
       "Bharatiya Janta Party       3686720\n",
       "Lok Jan Shakti Party        2615901\n",
       "Independent                 2065744\n",
       "Indian National Congress    1435449\n",
       "Bahujan Samaj Party          981464\n",
       "Samajwadi Party              594266\n",
       "Name: Votes, dtype: int64"
      ]
     },
     "execution_count": 16,
     "metadata": {},
     "output_type": "execute_result"
    }
   ],
   "source": [
    "df[df['Election Year'] == '2005-Oct'].groupby('Party')['Votes'].sum().sort_values(ascending = False).head(8)\n",
    "# In 2005-Oct Elections, following 8 parties secured the most votes."
   ]
  },
  {
   "cell_type": "code",
   "execution_count": 17,
   "id": "a65ce6cf",
   "metadata": {},
   "outputs": [
    {
     "data": {
      "image/png": "[encoded data removed]",
      "text/plain": [
       "<Figure size 432x288 with 1 Axes>"
      ]
     },
     "metadata": {
      "needs_background": "light"
     },
     "output_type": "display_data"
    }
   ],
   "source": [
    "df[df['Election Year'] == '2005-Oct'].groupby('Party')['Votes'].sum().sort_values(ascending = False).head(8).plot(kind = 'bar', color = 'b')\n",
    "plt.title('Top 8 Performing Parties in 2005-Oct Elections', fontsize = 15)\n",
    "plt.show()"
   ]
  },
  {
   "cell_type": "code",
   "execution_count": 18,
   "id": "a445dc92",
   "metadata": {},
   "outputs": [
    {
     "data": {
      "text/plain": [
       "Party\n",
       "Janata Dal (United)           6561906\n",
       "Rashtriya Janata Dal          5475656\n",
       "Bharatiya Janta Party         4790436\n",
       "Independent                   3842812\n",
       "Indian National Congress      2431477\n",
       "Lok Jan Shakti Party          1957232\n",
       "Bahujan Samaj Party            933947\n",
       "Nationalist Congress Party     528575\n",
       "Name: Votes, dtype: int64"
      ]
     },
     "execution_count": 18,
     "metadata": {},
     "output_type": "execute_result"
    }
   ],
   "source": [
    "df[df['Election Year'] == '2010'].groupby('Party')['Votes'].sum().sort_values(ascending = False).head(8)\n",
    "# In 2010 Elections, following 8 parties secured the most votes."
   ]
  },
  {
   "cell_type": "code",
   "execution_count": 19,
   "id": "ea6bd9f9",
   "metadata": {},
   "outputs": [
    {
     "data": {
      "image/png": "[encoded data removed]",
      "text/plain": [
       "<Figure size 432x288 with 1 Axes>"
      ]
     },
     "metadata": {
      "needs_background": "light"
     },
     "output_type": "display_data"
    }
   ],
   "source": [
    "df[df['Election Year'] == '2010'].groupby('Party')['Votes'].sum().sort_values(ascending = False).head(8).plot(kind = 'bar', color = 'r')\n",
    "plt.title('Top 8 Performing Parties in 2010 Elections', fontsize = 15)\n",
    "plt.show()"
   ]
  },
  {
   "cell_type": "code",
   "execution_count": 20,
   "id": "ebb29f1f",
   "metadata": {},
   "outputs": [
    {
     "data": {
      "text/plain": [
       "Party\n",
       "Bharatiya Janta Party               9308015\n",
       "Rashtriya Janata Dal                6995509\n",
       "Janata Dal (United)                 6416414\n",
       "Independent                         3580953\n",
       "Indian National Congress            2539638\n",
       "Lok Jan Shakti Party                1840834\n",
       "Rashtriya Lok Samta Party            976787\n",
       "Hindustani Awam Morcha (Secular)     864856\n",
       "Name: Votes, dtype: int64"
      ]
     },
     "execution_count": 20,
     "metadata": {},
     "output_type": "execute_result"
    }
   ],
   "source": [
    "df[df['Election Year'] == '2015'].groupby('Party')['Votes'].sum().sort_values(ascending = False).head(8)\n",
    "# In 2015 Elections, following 8 parties secured the most votes."
   ]
  },
  {
   "cell_type": "code",
   "execution_count": 21,
   "id": "745f0715",
   "metadata": {},
   "outputs": [
    {
     "data": {
      "image/png": "[encoded data removed]",
      "text/plain": [
       "<Figure size 432x288 with 1 Axes>"
      ]
     },
     "metadata": {
      "needs_background": "light"
     },
     "output_type": "display_data"
    }
   ],
   "source": [
    "df[df['Election Year'] == '2015'].groupby('Party')['Votes'].sum().sort_values(ascending = False).head(8).plot(kind = 'bar', color = 'y')\n",
    "plt.title('Top 8 Performing Parties in 2015 Elections', fontsize = 15)\n",
    "plt.show()"
   ]
  },
  {
   "cell_type": "markdown",
   "id": "b4ba3220",
   "metadata": {},
   "source": [
    "d. Determine the minimum votes that each party in the top 8 of the 2015 election\n",
    "secured among all the past elections. Do this for all constituencies."
   ]
  },
  {
   "cell_type": "code",
   "execution_count": 22,
   "id": "923eff6d",
   "metadata": {},
   "outputs": [
    {
     "data": {
      "text/plain": [
       "Election Year\n",
       "2005-Feb    2686290\n",
       "2005-Oct    3686720\n",
       "2010        4790436\n",
       "2015        9308015\n",
       "Name: Votes, dtype: int64"
      ]
     },
     "execution_count": 22,
     "metadata": {},
     "output_type": "execute_result"
    }
   ],
   "source": [
    "df[df['Party'] == 'Bharatiya Janta Party'].groupby('Election Year')['Votes'].sum().sort_values()\n",
    "# Bharatiya Janta Party secured minimum votes in the 2005-Feb Elections as compared to other elections."
   ]
  },
  {
   "cell_type": "code",
   "execution_count": 23,
   "id": "0dacda1d",
   "metadata": {},
   "outputs": [
    {
     "data": {
      "text/plain": [
       "Election Year\n",
       "2010        5475656\n",
       "2005-Oct    5525081\n",
       "2005-Feb    6140223\n",
       "2015        6995509\n",
       "Name: Votes, dtype: int64"
      ]
     },
     "execution_count": 23,
     "metadata": {},
     "output_type": "execute_result"
    }
   ],
   "source": [
    "df[df['Party'] == 'Rashtriya Janata Dal'].groupby('Election Year')['Votes'].sum().sort_values()\n",
    "# Rashtriya Janata Dal secured minimum votes in the 2010 Elections as compared to other elections."
   ]
  },
  {
   "cell_type": "code",
   "execution_count": 24,
   "id": "4103e04b",
   "metadata": {},
   "outputs": [
    {
     "data": {
      "text/plain": [
       "Election Year\n",
       "2005-Feb    3564930\n",
       "2005-Oct    4819759\n",
       "2015        6416414\n",
       "2010        6561906\n",
       "Name: Votes, dtype: int64"
      ]
     },
     "execution_count": 24,
     "metadata": {},
     "output_type": "execute_result"
    }
   ],
   "source": [
    "df[df['Party'] == 'Janata Dal (United)'].groupby('Election Year')['Votes'].sum().sort_values()\n",
    "# Janata Dal (United) secured minimum votes in the 2005-Feb Elections as compared to other elections."
   ]
  },
  {
   "cell_type": "code",
   "execution_count": 25,
   "id": "65943e1f",
   "metadata": {},
   "outputs": [
    {
     "data": {
      "text/plain": [
       "Election Year\n",
       "2005-Oct    2065744\n",
       "2015        3580953\n",
       "2010        3842812\n",
       "2005-Feb    3957945\n",
       "Name: Votes, dtype: int64"
      ]
     },
     "execution_count": 25,
     "metadata": {},
     "output_type": "execute_result"
    }
   ],
   "source": [
    "df[df['Party'] == 'Independent'].groupby('Election Year')['Votes'].sum().sort_values()\n",
    "# Independent Candidates together secured minimum votes in the 2005-Oct Elections as compared to other elections."
   ]
  },
  {
   "cell_type": "code",
   "execution_count": 26,
   "id": "e3af7486",
   "metadata": {},
   "outputs": [
    {
     "data": {
      "text/plain": [
       "Election Year\n",
       "2005-Feb    1223835\n",
       "2005-Oct    1435449\n",
       "2010        2431477\n",
       "2015        2539638\n",
       "Name: Votes, dtype: int64"
      ]
     },
     "execution_count": 26,
     "metadata": {},
     "output_type": "execute_result"
    }
   ],
   "source": [
    "df[df['Party'] == 'Indian National Congress'].groupby('Election Year')['Votes'].sum().sort_values()\n",
    "# Indian National Congress secured minimum votes in the 2005-Feb Elections as compared to other elections."
   ]
  },
  {
   "cell_type": "code",
   "execution_count": 27,
   "id": "47dce839",
   "metadata": {},
   "outputs": [
    {
     "data": {
      "text/plain": [
       "Election Year\n",
       "2015        1840834\n",
       "2010        1957232\n",
       "2005-Oct    2615901\n",
       "2005-Feb    3091173\n",
       "Name: Votes, dtype: int64"
      ]
     },
     "execution_count": 27,
     "metadata": {},
     "output_type": "execute_result"
    }
   ],
   "source": [
    "df[df['Party'] == 'Lok Jan Shakti Party'].groupby('Election Year')['Votes'].sum().sort_values()\n",
    "# Lok Jan Shakti Party secured minimum votes in the 2015 Elections as compared to other elections."
   ]
  },
  {
   "cell_type": "code",
   "execution_count": 28,
   "id": "e600991a",
   "metadata": {},
   "outputs": [
    {
     "data": {
      "text/plain": [
       "Election Year\n",
       "2015    976787\n",
       "Name: Votes, dtype: int64"
      ]
     },
     "execution_count": 28,
     "metadata": {},
     "output_type": "execute_result"
    }
   ],
   "source": [
    "df[df['Party'] == 'Rashtriya Lok Samta Party'].groupby('Election Year')['Votes'].sum().sort_values()\n",
    "# Rashtriya Lok Samta Party secured minimum votes in the 2015 Elections as compared to other elections."
   ]
  },
  {
   "cell_type": "code",
   "execution_count": 29,
   "id": "4b93bc24",
   "metadata": {},
   "outputs": [
    {
     "data": {
      "text/plain": [
       "Election Year\n",
       "2015    864856\n",
       "Name: Votes, dtype: int64"
      ]
     },
     "execution_count": 29,
     "metadata": {},
     "output_type": "execute_result"
    }
   ],
   "source": [
    "df[df['Party'] == 'Hindustani Awam Morcha (Secular)'].groupby('Election Year')['Votes'].sum().sort_values()\n",
    "# Hindustani Awam Morcha (Secular) secured minimum votes in the 2015 Elections as compared to other elections."
   ]
  },
  {
   "cell_type": "markdown",
   "id": "339af8d8",
   "metadata": {},
   "source": [
    "e. Determine the consistently tri-polar constituencies. I.e Constituencies in which 3\n",
    "parties or more got greater than 10% of the vote shares in each election. The\n",
    "parties can be different for different elections.\n"
   ]
  },
  {
   "cell_type": "code",
   "execution_count": 30,
   "id": "ce3d3f89",
   "metadata": {},
   "outputs": [],
   "source": [
    "# Converting column 'Votes %' into numerical column by removing the % symbol from the values.\n",
    "\n",
    "df['Votes %%'] = df['Votes %'].apply(lambda x : x.replace('%', ''))\n",
    "df['Votes %%'] = pd.to_numeric(df['Votes %%'])\n",
    "\n",
    "df1 = df[df['Election Year'] == '2005-Feb']\n",
    "df2 = df[df['Election Year'] == '2005-Oct']\n",
    "df3= df[df['Election Year'] == '2010']\n",
    "df4 = df[df['Election Year'] == '2015']"
   ]
  },
  {
   "cell_type": "code",
   "execution_count": 31,
   "id": "2723413c",
   "metadata": {},
   "outputs": [],
   "source": [
    "A11 = pd.DataFrame(df1[df1['Votes %%'] > 10].groupby(['AC No','Party'])['Votes %%'].max())\n",
    "A11.reset_index(inplace = True)\n",
    "A22 = pd.DataFrame(df2[df2['Votes %%'] > 10].groupby(['AC No','Party'])['Votes %%'].max())\n",
    "A22.reset_index(inplace = True)\n",
    "A33 = pd.DataFrame(df3[df3['Votes %%'] > 10].groupby(['AC No','Party'])['Votes %%'].max())\n",
    "A33.reset_index(inplace = True)\n",
    "A44 = pd.DataFrame(df4[df4['Votes %%'] > 10].groupby(['AC No','Party'])['Votes %%'].max())\n",
    "A44.reset_index(inplace = True)"
   ]
  },
  {
   "cell_type": "code",
   "execution_count": 32,
   "id": "86359b44",
   "metadata": {},
   "outputs": [],
   "source": [
    "A111 = pd.DataFrame(A11['AC No'].value_counts())\n",
    "A111.reset_index(inplace = True)\n",
    "A1111 = pd.DataFrame()\n",
    "A1111['AC No'] = A111['index']\n",
    "A1111['Count'] = A111['AC No']\n",
    "\n",
    "A222 = pd.DataFrame(A22['AC No'].value_counts())\n",
    "A222.reset_index(inplace = True)\n",
    "A2222 = pd.DataFrame()\n",
    "A2222['AC No'] = A222['index']\n",
    "A2222['Count'] = A222['AC No']\n",
    "\n",
    "A333 = pd.DataFrame(A33['AC No'].value_counts())\n",
    "A333.reset_index(inplace = True)\n",
    "A3333 = pd.DataFrame()\n",
    "A3333['AC No'] = A333['index']\n",
    "A3333['Count'] = A333['AC No']\n",
    "\n",
    "A444 = pd.DataFrame(A44['AC No'].value_counts())\n",
    "A444.reset_index(inplace = True)\n",
    "A4444 = pd.DataFrame()\n",
    "A4444['AC No'] = A444['index']\n",
    "A4444['Count'] = A444['AC No']"
   ]
  },
  {
   "cell_type": "code",
   "execution_count": 33,
   "id": "425cb8b4",
   "metadata": {},
   "outputs": [
    {
     "name": "stdout",
     "output_type": "stream",
     "text": [
      "[1, 2, 3, 4, 5, 6, 7, 9, 10, 11, 12, 13, 14, 15, 16, 17, 18, 19, 20, 22, 23, 24, 25, 29, 30, 31, 35, 36, 38, 39, 40, 45, 46, 48, 49, 50, 53, 54, 55, 57, 58, 59, 61, 63, 64, 65, 66, 67, 68, 69, 70, 71, 72, 73, 74, 75, 76, 77, 78, 79, 80, 81, 82, 83, 85, 86, 88, 89, 90, 91, 92, 93, 95, 96, 97, 100, 101, 102, 103, 105, 107, 109, 110, 111, 112, 115, 116, 117, 118, 119, 120, 122, 123, 124, 125, 127, 128, 130, 132, 134, 135, 136, 137, 138, 141, 142, 143, 145, 146, 147, 148, 149, 150, 152, 156, 157, 158, 159, 160, 161, 162, 164, 165, 166, 168, 169, 172, 173, 175, 177, 178, 180, 182, 183, 185, 186, 187, 188, 189, 190, 191, 193, 194, 195, 196, 197, 198, 199, 200, 201, 202, 203, 204, 205, 206, 207, 208, 209, 211, 212, 213, 214, 215, 217, 218, 219, 221, 222, 223, 224, 227, 228, 230, 231, 233, 234, 235, 237, 243]\n"
     ]
    }
   ],
   "source": [
    "print(A1111[A1111['Count'] >= 3].sort_values(by = 'AC No')['AC No'].tolist())\n",
    "# Following is the list of tri-polar constituencies for the 2005-Feb Elections."
   ]
  },
  {
   "cell_type": "code",
   "execution_count": 34,
   "id": "9411496c",
   "metadata": {},
   "outputs": [
    {
     "name": "stdout",
     "output_type": "stream",
     "text": [
      "[1, 3, 5, 6, 7, 9, 10, 11, 12, 13, 14, 15, 19, 20, 21, 22, 23, 24, 25, 30, 31, 34, 38, 39, 42, 45, 46, 48, 49, 50, 51, 52, 55, 56, 57, 58, 61, 62, 63, 64, 65, 66, 67, 68, 70, 71, 72, 73, 75, 76, 78, 79, 80, 81, 83, 84, 85, 86, 87, 88, 91, 92, 94, 95, 96, 97, 98, 99, 100, 101, 102, 104, 105, 106, 107, 108, 109, 110, 113, 116, 117, 118, 120, 122, 124, 125, 127, 128, 130, 131, 132, 134, 135, 136, 137, 138, 139, 141, 144, 145, 146, 147, 148, 154, 155, 157, 159, 161, 164, 165, 166, 168, 169, 170, 171, 173, 177, 181, 182, 184, 185, 186, 187, 192, 194, 195, 196, 197, 199, 200, 202, 203, 205, 206, 207, 209, 210, 211, 212, 213, 214, 215, 218, 219, 220, 221, 222, 223, 224, 225, 226, 227, 228, 230, 231, 233, 234, 235, 236, 237, 238, 239, 241]\n"
     ]
    }
   ],
   "source": [
    "print(A2222[A2222['Count'] >= 3].sort_values(by = 'AC No')['AC No'].tolist())\n",
    "# Following is the list of tri-polar constituencies for the 2005-Oct Elections."
   ]
  },
  {
   "cell_type": "code",
   "execution_count": 35,
   "id": "ddde784a",
   "metadata": {},
   "outputs": [
    {
     "name": "stdout",
     "output_type": "stream",
     "text": [
      "[1, 2, 3, 4, 5, 6, 8, 12, 14, 15, 16, 17, 18, 20, 21, 22, 23, 25, 26, 29, 30, 31, 32, 33, 37, 40, 41, 43, 49, 50, 51, 53, 54, 56, 57, 60, 61, 62, 63, 64, 65, 66, 67, 68, 69, 70, 71, 76, 77, 78, 79, 81, 82, 85, 87, 89, 90, 95, 96, 98, 102, 103, 106, 107, 108, 116, 117, 119, 120, 124, 129, 134, 138, 139, 141, 142, 143, 144, 146, 147, 149, 150, 155, 156, 158, 160, 161, 162, 164, 166, 168, 169, 170, 189, 190, 192, 195, 196, 197, 198, 199, 201, 202, 203, 204, 205, 206, 207, 209, 212, 213, 214, 216, 217, 220, 221, 223, 226, 234, 236, 237, 238, 243]\n"
     ]
    }
   ],
   "source": [
    "print(A3333[A3333['Count'] >= 3].sort_values(by = 'AC No')['AC No'].tolist())\n",
    "# Following is the list of tri-polar constituencies for the 2010 Elections."
   ]
  },
  {
   "cell_type": "code",
   "execution_count": 36,
   "id": "9084db29",
   "metadata": {},
   "outputs": [
    {
     "name": "stdout",
     "output_type": "stream",
     "text": [
      "[1, 3, 5, 8, 10, 16, 17, 21, 22, 29, 31, 34, 48, 52, 55, 57, 60, 63, 64, 65, 66, 77, 95, 99, 103, 104, 105, 106, 107, 108, 113, 114, 120, 134, 137, 140, 142, 143, 147, 151, 155, 160, 161, 162, 169, 178, 189, 190, 191, 192, 195, 196, 197, 203, 206, 209, 212, 213, 214, 218, 219, 220, 221, 226, 238, 242, 243]\n"
     ]
    }
   ],
   "source": [
    "print(A4444[A4444['Count'] >= 3].sort_values(by = 'AC No')['AC No'].tolist())\n",
    "# Following is the list of tri-polar constituencies for the 2015 Elections."
   ]
  },
  {
   "cell_type": "markdown",
   "id": "659c6b75",
   "metadata": {},
   "source": [
    "f. Determine the stronghold party-seats. A stronghold seat is one that is won by the\n",
    "same party in all the elections."
   ]
  },
  {
   "cell_type": "code",
   "execution_count": 37,
   "id": "fbb8caf9",
   "metadata": {},
   "outputs": [],
   "source": [
    "df1 = df[df['Election Year'] == '2005-Feb']\n",
    "df2 = df[df['Election Year'] == '2005-Oct']\n",
    "df3= df[df['Election Year'] == '2010']\n",
    "df4 = df[df['Election Year'] == '2015']"
   ]
  },
  {
   "cell_type": "code",
   "execution_count": 38,
   "id": "3418aa40",
   "metadata": {},
   "outputs": [],
   "source": [
    "A1 = pd.DataFrame(df1[df1['Position'] == 1].groupby(['AC No','Party'])['Votes'].max())\n",
    "A1.reset_index(inplace = True)"
   ]
  },
  {
   "cell_type": "code",
   "execution_count": 39,
   "id": "031e648a",
   "metadata": {},
   "outputs": [],
   "source": [
    "A2 = pd.DataFrame(df2[df2['Position'] == 1].groupby(['AC No','Party'])['Votes'].max())\n",
    "A2.reset_index(inplace = True)"
   ]
  },
  {
   "cell_type": "code",
   "execution_count": 40,
   "id": "6062a399",
   "metadata": {},
   "outputs": [],
   "source": [
    "A3 = pd.DataFrame(df3[df3['Position'] == 1].groupby(['AC No','Party'])['Votes'].max())\n",
    "A3.reset_index(inplace = True)"
   ]
  },
  {
   "cell_type": "code",
   "execution_count": 41,
   "id": "7f33e073",
   "metadata": {},
   "outputs": [],
   "source": [
    "A4 = pd.DataFrame(df4[df4['Position'] == 1].groupby(['AC No','Party'])['Votes'].max())\n",
    "A4.reset_index(inplace = True)"
   ]
  },
  {
   "cell_type": "code",
   "execution_count": 42,
   "id": "768ab805",
   "metadata": {},
   "outputs": [
    {
     "data": {
      "text/html": [
       "<div>\n",
       "<style scoped>\n",
       "    .dataframe tbody tr th:only-of-type {\n",
       "        vertical-align: middle;\n",
       "    }\n",
       "\n",
       "    .dataframe tbody tr th {\n",
       "        vertical-align: top;\n",
       "    }\n",
       "\n",
       "    .dataframe thead th {\n",
       "        text-align: right;\n",
       "    }\n",
       "</style>\n",
       "<table border=\"1\" class=\"dataframe\">\n",
       "  <thead>\n",
       "    <tr style=\"text-align: right;\">\n",
       "      <th></th>\n",
       "      <th>AC No</th>\n",
       "      <th>2005-Feb</th>\n",
       "      <th>2005-Oct</th>\n",
       "      <th>2010</th>\n",
       "      <th>2015</th>\n",
       "    </tr>\n",
       "  </thead>\n",
       "  <tbody>\n",
       "    <tr>\n",
       "      <th>6</th>\n",
       "      <td>7</td>\n",
       "      <td>Bharatiya Janta Party</td>\n",
       "      <td>Bharatiya Janta Party</td>\n",
       "      <td>Bharatiya Janta Party</td>\n",
       "      <td>Bharatiya Janta Party</td>\n",
       "    </tr>\n",
       "    <tr>\n",
       "      <th>7</th>\n",
       "      <td>8</td>\n",
       "      <td>Bharatiya Janta Party</td>\n",
       "      <td>Bharatiya Janta Party</td>\n",
       "      <td>Bharatiya Janta Party</td>\n",
       "      <td>Bharatiya Janta Party</td>\n",
       "    </tr>\n",
       "    <tr>\n",
       "      <th>9</th>\n",
       "      <td>10</td>\n",
       "      <td>Bharatiya Janta Party</td>\n",
       "      <td>Bharatiya Janta Party</td>\n",
       "      <td>Bharatiya Janta Party</td>\n",
       "      <td>Bharatiya Janta Party</td>\n",
       "    </tr>\n",
       "    <tr>\n",
       "      <th>42</th>\n",
       "      <td>41</td>\n",
       "      <td>Janata Dal (United)</td>\n",
       "      <td>Janata Dal (United)</td>\n",
       "      <td>Janata Dal (United)</td>\n",
       "      <td>Janata Dal (United)</td>\n",
       "    </tr>\n",
       "    <tr>\n",
       "      <th>72</th>\n",
       "      <td>72</td>\n",
       "      <td>Janata Dal (United)</td>\n",
       "      <td>Janata Dal (United)</td>\n",
       "      <td>Janata Dal (United)</td>\n",
       "      <td>Janata Dal (United)</td>\n",
       "    </tr>\n",
       "    <tr>\n",
       "      <th>112</th>\n",
       "      <td>112</td>\n",
       "      <td>Janata Dal (United)</td>\n",
       "      <td>Janata Dal (United)</td>\n",
       "      <td>Janata Dal (United)</td>\n",
       "      <td>Janata Dal (United)</td>\n",
       "    </tr>\n",
       "    <tr>\n",
       "      <th>162</th>\n",
       "      <td>163</td>\n",
       "      <td>Janata Dal (United)</td>\n",
       "      <td>Janata Dal (United)</td>\n",
       "      <td>Janata Dal (United)</td>\n",
       "      <td>Janata Dal (United)</td>\n",
       "    </tr>\n",
       "    <tr>\n",
       "      <th>175</th>\n",
       "      <td>176</td>\n",
       "      <td>Janata Dal (United)</td>\n",
       "      <td>Janata Dal (United)</td>\n",
       "      <td>Janata Dal (United)</td>\n",
       "      <td>Janata Dal (United)</td>\n",
       "    </tr>\n",
       "    <tr>\n",
       "      <th>201</th>\n",
       "      <td>202</td>\n",
       "      <td>Janata Dal (United)</td>\n",
       "      <td>Janata Dal (United)</td>\n",
       "      <td>Janata Dal (United)</td>\n",
       "      <td>Janata Dal (United)</td>\n",
       "    </tr>\n",
       "    <tr>\n",
       "      <th>214</th>\n",
       "      <td>215</td>\n",
       "      <td>Janata Dal (United)</td>\n",
       "      <td>Janata Dal (United)</td>\n",
       "      <td>Janata Dal (United)</td>\n",
       "      <td>Janata Dal (United)</td>\n",
       "    </tr>\n",
       "  </tbody>\n",
       "</table>\n",
       "</div>"
      ],
      "text/plain": [
       "     AC No               2005-Feb               2005-Oct  \\\n",
       "6        7  Bharatiya Janta Party  Bharatiya Janta Party   \n",
       "7        8  Bharatiya Janta Party  Bharatiya Janta Party   \n",
       "9       10  Bharatiya Janta Party  Bharatiya Janta Party   \n",
       "42      41    Janata Dal (United)    Janata Dal (United)   \n",
       "72      72    Janata Dal (United)    Janata Dal (United)   \n",
       "112    112    Janata Dal (United)    Janata Dal (United)   \n",
       "162    163    Janata Dal (United)    Janata Dal (United)   \n",
       "175    176    Janata Dal (United)    Janata Dal (United)   \n",
       "201    202    Janata Dal (United)    Janata Dal (United)   \n",
       "214    215    Janata Dal (United)    Janata Dal (United)   \n",
       "\n",
       "                      2010                   2015  \n",
       "6    Bharatiya Janta Party  Bharatiya Janta Party  \n",
       "7    Bharatiya Janta Party  Bharatiya Janta Party  \n",
       "9    Bharatiya Janta Party  Bharatiya Janta Party  \n",
       "42     Janata Dal (United)    Janata Dal (United)  \n",
       "72     Janata Dal (United)    Janata Dal (United)  \n",
       "112    Janata Dal (United)    Janata Dal (United)  \n",
       "162    Janata Dal (United)    Janata Dal (United)  \n",
       "175    Janata Dal (United)    Janata Dal (United)  \n",
       "201    Janata Dal (United)    Janata Dal (United)  \n",
       "214    Janata Dal (United)    Janata Dal (United)  "
      ]
     },
     "execution_count": 42,
     "metadata": {},
     "output_type": "execute_result"
    }
   ],
   "source": [
    "A5 = pd.DataFrame()\n",
    "A5['AC No'] = A1['AC No']\n",
    "A5['2005-Feb'] = A1['Party']\n",
    "A5['2005-Oct'] = A2['Party']\n",
    "A5['2010'] = A3['Party']\n",
    "A5['2015'] = A4['Party']\n",
    "A5[(A5['2005-Feb'] == A5['2005-Oct']) & (A5['2005-Oct'] == A5['2010']) & (A5['2010'] == A5['2015'])]\n",
    "\n",
    "# Following table shows us the strong hold seats for Bharatiya Janta Party and Janata Dal (United).\n",
    "# AC No. 7, 8, 10 have been the strong hold seats of Bharatiya Janta Party.\n",
    "# AC No. 41, 72, 112, 163, 176, 202, 215 have been the strong hold seats of Janata Dal (United)."
   ]
  },
  {
   "cell_type": "markdown",
   "id": "649ae1fd",
   "metadata": {},
   "source": [
    "g. Determine close contest constituencies. Close contest seats are those in which\n",
    "the top 2 finishers had a difference of less than 10% votes. Find seats in which\n",
    "there was a close contest in all the elections. If there is no such seat, then relax\n",
    "the criteria to 15%.\n"
   ]
  },
  {
   "cell_type": "code",
   "execution_count": 43,
   "id": "fac7a26d",
   "metadata": {},
   "outputs": [],
   "source": [
    "B1 = df1[df1['Position'] == 1][['AC No', 'Votes %%']]\n",
    "B1.reset_index(inplace = True)\n",
    "B11 = df1[df1['Position'] == 2][['AC No', 'Votes %%']]\n",
    "B11.reset_index(inplace = True)\n",
    "B111 = pd.DataFrame()\n",
    "B111['AC No'] = B1['AC No']\n",
    "B111['Votes % 1'] = B1['Votes %%'] \n",
    "B111['Votes % 2'] = B11['Votes %%']\n",
    "B111['Difference'] = B1['Votes %%'] - B11['Votes %%']\n",
    "\n",
    "B_1 = df2[df2['Position'] == 1][['AC No', 'Votes %%']]\n",
    "B_1.reset_index(inplace = True)\n",
    "B_11 = df2[df2['Position'] == 2][['AC No', 'Votes %%']]\n",
    "B_11.reset_index(inplace = True)\n",
    "B_111 = pd.DataFrame()\n",
    "B_111['AC No'] = B_1['AC No']\n",
    "B_111['Votes % 1'] = B_1['Votes %%'] \n",
    "B_111['Votes % 2'] = B_11['Votes %%']\n",
    "B_111['Difference'] = B_1['Votes %%'] - B_11['Votes %%']\n",
    "\n",
    "B__1 = df3[df3['Position'] == 1][['AC No', 'Votes %%']]\n",
    "B__1.reset_index(inplace = True)\n",
    "B__11 = df3[df3['Position'] == 2][['AC No', 'Votes %%']]\n",
    "B__11.reset_index(inplace = True)\n",
    "B__111 = pd.DataFrame()\n",
    "B__111['AC No'] = B__1['AC No']\n",
    "B__111['Votes % 1'] = B__1['Votes %%'] \n",
    "B__111['Votes % 2'] = B__11['Votes %%']\n",
    "B__111['Difference'] = B__1['Votes %%'] - B__11['Votes %%']\n",
    "\n",
    "B___1 = df4[df4['Position'] == 1][['AC No', 'Votes %%']]\n",
    "B___1.reset_index(inplace = True)\n",
    "B___11 = df4[df4['Position'] == 2][['AC No', 'Votes %%']]\n",
    "B___11.reset_index(inplace = True)\n",
    "B___111 = pd.DataFrame()\n",
    "B___111['AC No'] = B___1['AC No']\n",
    "B___111['Votes % 1'] = B___1['Votes %%'] \n",
    "B___111['Votes % 2'] = B___11['Votes %%']\n",
    "B___111['Difference'] = B___1['Votes %%'] - B__11['Votes %%']"
   ]
  },
  {
   "cell_type": "code",
   "execution_count": 44,
   "id": "8a7b1b51",
   "metadata": {},
   "outputs": [
    {
     "name": "stdout",
     "output_type": "stream",
     "text": [
      "[1, 3, 5, 6, 8, 9, 10, 11, 15, 16, 19, 20, 23, 24, 25, 28, 31, 32, 35, 36, 37, 38, 40, 41, 17, 43, 49, 50, 52, 53, 55, 56, 57, 58, 63, 64, 65, 66, 68, 69, 70, 71, 72, 73, 74, 75, 77, 78, 82, 83, 84, 86, 87, 90, 91, 92, 93, 94, 96, 99, 102, 103, 105, 106, 107, 108, 110, 112, 113, 114, 115, 116, 117, 124, 125, 127, 128, 129, 130, 16, 134, 135, 137, 138, 139, 141, 142, 146, 147, 149, 153, 154, 155, 156, 158, 159, 160, 161, 163, 164, 165, 169, 172, 175, 178, 180, 183, 184, 185, 191, 192, 194, 195, 196, 197, 199, 200, 202, 203, 204, 207, 208, 209, 211, 212, 213, 214, 216, 218, 219, 222, 223, 225, 226, 230, 233, 237, 239, 240, 242]\n"
     ]
    }
   ],
   "source": [
    "print(B111[B111['Difference'] < 10]['AC No'].tolist())\n",
    "# Following is the list of close contest constituencies for the 2005-Feb Elections."
   ]
  },
  {
   "cell_type": "code",
   "execution_count": 45,
   "id": "3910cc20",
   "metadata": {},
   "outputs": [
    {
     "name": "stdout",
     "output_type": "stream",
     "text": [
      "[1, 3, 4, 5, 6, 9, 10, 11, 14, 15, 18, 19, 21, 22, 23, 24, 25, 26, 28, 29, 30, 31, 35, 36, 37, 38, 41, 42, 44, 46, 47, 48, 49, 50, 51, 52, 53, 54, 55, 57, 58, 60, 61, 65, 66, 68, 71, 72, 73, 74, 75, 76, 77, 79, 81, 83, 84, 85, 86, 87, 90, 91, 92, 93, 94, 96, 97, 98, 100, 102, 106, 107, 108, 113, 115, 116, 117, 118, 119, 120, 124, 125, 127, 128, 129, 130, 132, 134, 135, 137, 138, 141, 142, 144, 145, 146, 147, 149, 152, 154, 156, 157, 158, 159, 161, 163, 164, 166, 169, 170, 172, 178, 183, 185, 192, 193, 195, 197, 199, 200, 201, 202, 203, 204, 205, 208, 209, 212, 213, 214, 218, 219, 221, 222, 223, 224, 227, 229, 230, 231, 233, 234, 235, 236, 237, 238, 239, 240, 242]\n"
     ]
    }
   ],
   "source": [
    "print(B_111[B_111['Difference'] < 10]['AC No'].tolist())\n",
    "# Following is the list of close contest constituencies for the 2005-Oct Elections."
   ]
  },
  {
   "cell_type": "code",
   "execution_count": 46,
   "id": "f2c834b9",
   "metadata": {},
   "outputs": [
    {
     "name": "stdout",
     "output_type": "stream",
     "text": [
      "[5, 9, 10, 12, 14, 17, 18, 21, 22, 25, 26, 27, 28, 29, 31, 33, 34, 35, 36, 37, 39, 46, 51, 52, 53, 54, 55, 57, 58, 65, 66, 67, 73, 75, 77, 78, 81, 82, 84, 85, 86, 90, 93, 95, 98, 100, 106, 107, 114, 115, 116, 117, 119, 121, 125, 127, 128, 129, 133, 134, 135, 139, 140, 141, 142, 143, 151, 152, 154, 155, 156, 157, 158, 160, 161, 163, 167, 169, 170, 178, 185, 187, 189, 190, 191, 192, 193, 195, 197, 198, 203, 204, 205, 206, 207, 208, 209, 212, 213, 214, 216, 218, 219, 220, 223, 225, 226, 227, 229, 232, 236, 237, 239, 242, 243]\n"
     ]
    }
   ],
   "source": [
    "print(B__111[B__111['Difference'] < 10]['AC No'].tolist())\n",
    "# Following is the list of close contest constituencies for the 2010 Elections."
   ]
  },
  {
   "cell_type": "code",
   "execution_count": 47,
   "id": "59291f1d",
   "metadata": {},
   "outputs": [
    {
     "name": "stdout",
     "output_type": "stream",
     "text": [
      "[10, 22, 26, 27, 163, 31, 34, 36, 38, 52, 54, 58, 60, 65, 66, 67, 77, 86, 88, 35, 95, 98, 99, 105, 107, 113, 114, 115, 137, 151, 172, 155, 158, 169, 71, 178, 180, 199, 196, 197, 8, 209, 212, 213, 215, 219, 220, 221, 225, 146, 233, 238, 242]\n"
     ]
    }
   ],
   "source": [
    "print(B___111[B___111['Difference'] < 10]['AC No'].tolist())\n",
    "# Following is the list of close contest constituencies for the 2015 Elections."
   ]
  },
  {
   "cell_type": "markdown",
   "id": "ff859950",
   "metadata": {},
   "source": [
    "h. Find the growing seats. For the top 8 parties at the state-level in the 2005-Feb\n",
    "Election, Determine the seats in which these parties have continuously increased\n",
    "their votes in the next 3 elections"
   ]
  },
  {
   "cell_type": "code",
   "execution_count": 48,
   "id": "0d25b643",
   "metadata": {},
   "outputs": [
    {
     "data": {
      "text/plain": [
       "Party\n",
       "Rashtriya Janata Dal        6140223\n",
       "Independent                 3957945\n",
       "Janata Dal (United)         3564930\n",
       "Lok Jan Shakti Party        3091173\n",
       "Bharatiya Janta Party       2686290\n",
       "Indian National Congress    1223835\n",
       "Bahujan Samaj Party         1080745\n",
       "Samajwadi Party              658791\n",
       "Name: Votes, dtype: int64"
      ]
     },
     "execution_count": 48,
     "metadata": {},
     "output_type": "execute_result"
    }
   ],
   "source": [
    "df[df['Election Year'] == '2005-Feb'].groupby('Party')['Votes'].sum().sort_values(ascending = False).head(8)\n",
    "# Below is the list of the top 8 parties in the 2005-Feb Elections. "
   ]
  },
  {
   "cell_type": "code",
   "execution_count": 49,
   "id": "b4bfdfed",
   "metadata": {},
   "outputs": [],
   "source": [
    "C1 = df1[df1['Party'] == 'Rashtriya Janata Dal'][['AC No','Votes %%']]\n",
    "C1.reset_index(inplace = True)\n",
    "C2 = df2[df2['Party'] == 'Rashtriya Janata Dal'][['AC No','Votes %%']]\n",
    "C2.reset_index(inplace = True)\n",
    "C3 = df3[df3['Party'] == 'Rashtriya Janata Dal'][['AC No','Votes %%']]\n",
    "C3.reset_index(inplace = True)\n",
    "C4 = df4[df4['Party'] == 'Rashtriya Janata Dal'][['AC No','Votes %%']]\n",
    "C4.reset_index(inplace = True)\n",
    "\n",
    "C11 = pd.DataFrame()\n",
    "C11['AC No'] = C1['AC No']\n",
    "C11['2005-Feb'] = C1['Votes %%']\n",
    "C11['2005-Oct'] = C2['Votes %%']\n",
    "C11['2010'] = C3['Votes %%']\n",
    "C11['2015'] = C4['Votes %%']\n",
    "\n",
    "D1 = df1[df1['Party'] == 'Independent'][['AC No','Votes %%']]\n",
    "D1.reset_index(inplace = True)\n",
    "D2 = df2[df2['Party'] == 'Independent'][['AC No','Votes %%']]\n",
    "D2.reset_index(inplace = True)\n",
    "D3 = df3[df3['Party'] == 'Independent'][['AC No','Votes %%']]\n",
    "D3.reset_index(inplace = True)\n",
    "D4 = df4[df4['Party'] == 'Independent'][['AC No','Votes %%']]\n",
    "D4.reset_index(inplace = True)\n",
    "D11 = pd.DataFrame()\n",
    "D11['AC No'] = D1['AC No']\n",
    "D11['2005-Feb'] = D1['Votes %%']\n",
    "D11['2005-Oct'] = D2['Votes %%']\n",
    "D11['2010'] = D3['Votes %%']\n",
    "D11['2015'] = D4['Votes %%']\n",
    "\n",
    "E1 = df1[df1['Party'] == 'Janata Dal (United)'][['AC No','Votes %%']]\n",
    "E1.reset_index(inplace = True)\n",
    "E2 = df2[df2['Party'] == 'Janata Dal (United)'][['AC No','Votes %%']]\n",
    "E2.reset_index(inplace = True)\n",
    "E3 = df3[df3['Party'] == 'Janata Dal (United)'][['AC No','Votes %%']]\n",
    "E3.reset_index(inplace = True)\n",
    "E4 = df4[df4['Party'] == 'Janata Dal (United)'][['AC No','Votes %%']]\n",
    "E4.reset_index(inplace = True)\n",
    "E11 = pd.DataFrame()\n",
    "E11['AC No'] = E1['AC No']\n",
    "E11['2005-Feb'] = E1['Votes %%']\n",
    "E11['2005-Oct'] = E2['Votes %%']\n",
    "E11['2010'] = E3['Votes %%']\n",
    "E11['2015'] = E4['Votes %%']\n",
    "\n",
    "F1 = df1[df1['Party'] == 'Lok Jan Shakti Party'][['AC No','Votes %%']]\n",
    "F1.reset_index(inplace = True)\n",
    "F2 = df2[df2['Party'] == 'Lok Jan Shakti Party'][['AC No','Votes %%']]\n",
    "F2.reset_index(inplace = True)\n",
    "F3 = df3[df3['Party'] == 'Lok Jan Shakti Party'][['AC No','Votes %%']]\n",
    "F3.reset_index(inplace = True)\n",
    "F4 = df4[df4['Party'] == 'Lok Jan Shakti Party'][['AC No','Votes %%']]\n",
    "F4.reset_index(inplace = True)\n",
    "F11 = pd.DataFrame()\n",
    "F11['AC No'] = F1['AC No']\n",
    "F11['2005-Feb'] = F1['Votes %%']\n",
    "F11['2005-Oct'] = F2['Votes %%']\n",
    "F11['2010'] = F3['Votes %%']\n",
    "F11['2015'] = F4['Votes %%']\n",
    "\n",
    "G1 = df1[df1['Party'] == 'Bharatiya Janta Party'][['AC No','Votes %%']]\n",
    "G1.reset_index(inplace = True)\n",
    "G2 = df2[df2['Party'] == 'Bharatiya Janta Party'][['AC No','Votes %%']]\n",
    "G2.reset_index(inplace = True)\n",
    "G3 = df3[df3['Party'] == 'Bharatiya Janta Party'][['AC No','Votes %%']]\n",
    "G3.reset_index(inplace = True)\n",
    "G4 = df4[df4['Party'] == 'Bharatiya Janta Party'][['AC No','Votes %%']]\n",
    "G4.reset_index(inplace = True)\n",
    "G11 = pd.DataFrame()\n",
    "G11['AC No'] = G1['AC No']\n",
    "G11['2005-Feb'] = G1['Votes %%']\n",
    "G11['2005-Oct'] = G2['Votes %%']\n",
    "G11['2010'] = G3['Votes %%']\n",
    "G11['2015'] = G4['Votes %%']\n",
    "\n",
    "H1 = df1[df1['Party'] == 'Indian National Congress'][['AC No','Votes %%']]\n",
    "H1.reset_index(inplace = True)\n",
    "H2 = df2[df2['Party'] == 'Indian National Congress'][['AC No','Votes %%']]\n",
    "H2.reset_index(inplace = True)\n",
    "H3 = df3[df3['Party'] == 'Indian National Congress'][['AC No','Votes %%']]\n",
    "H3.reset_index(inplace = True)\n",
    "H4 = df4[df4['Party'] == 'Indian National Congress'][['AC No','Votes %%']]\n",
    "H4.reset_index(inplace = True)\n",
    "H11 = pd.DataFrame()\n",
    "H11['AC No'] = H1['AC No']\n",
    "H11['2005-Feb'] = H1['Votes %%']\n",
    "H11['2005-Oct'] = H2['Votes %%']\n",
    "H11['2010'] = H3['Votes %%']\n",
    "H11['2015'] = H4['Votes %%']\n",
    "\n",
    "I1 = df1[df1['Party'] == 'Bahujan Samaj Party'][['AC No','Votes %%']]\n",
    "I1.reset_index(inplace = True)\n",
    "I2 = df2[df2['Party'] == 'Bahujan Samaj Party'][['AC No','Votes %%']]\n",
    "I2.reset_index(inplace = True)\n",
    "I3 = df3[df3['Party'] == 'Bahujan Samaj Party'][['AC No','Votes %%']]\n",
    "I3.reset_index(inplace = True)\n",
    "I4 = df4[df4['Party'] == 'Bahujan Samaj Party'][['AC No','Votes %%']]\n",
    "I4.reset_index(inplace = True)\n",
    "I11 = pd.DataFrame()\n",
    "I11['AC No'] = I1['AC No']\n",
    "I11['2005-Feb'] = I1['Votes %%']\n",
    "I11['2005-Oct'] = I2['Votes %%']\n",
    "I11['2010'] = I3['Votes %%']\n",
    "I11['2015'] = I4['Votes %%']\n",
    "\n",
    "J1 = df1[df1['Party'] == 'Samajwadi Party'][['AC No','Votes %%']]\n",
    "J1.reset_index(inplace = True)\n",
    "J2 = df2[df2['Party'] == 'Samajwadi Party'][['AC No','Votes %%']]\n",
    "J2.reset_index(inplace = True)\n",
    "J3 = df3[df3['Party'] == 'Samajwadi Party'][['AC No','Votes %%']]\n",
    "J3.reset_index(inplace = True)\n",
    "J4 = df4[df4['Party'] == 'Samajwadi Party'][['AC No','Votes %%']]\n",
    "J4.reset_index(inplace = True)\n",
    "J11 = pd.DataFrame()\n",
    "J11['AC No'] = J1['AC No']\n",
    "J11['2005-Feb'] = J1['Votes %%']\n",
    "J11['2005-Oct'] = J2['Votes %%']\n",
    "J11['2010'] = J3['Votes %%']\n",
    "J11['2015'] = J4['Votes %%']"
   ]
  },
  {
   "cell_type": "code",
   "execution_count": 50,
   "id": "e313f3cb",
   "metadata": {},
   "outputs": [
    {
     "name": "stdout",
     "output_type": "stream",
     "text": [
      "[8, 11, 22, 24, 56, 62, 65, 66, 68, 78, 92, 107, 109]\n"
     ]
    }
   ],
   "source": [
    "print(C11[(C11['2005-Feb'] < C11['2005-Oct']) & (C11['2005-Oct'] < C11['2010']) & (C11['2010'] < C11['2015'])]['AC No'].tolist())\n",
    "# In the case of Rashtriya Janata Dal, following constituencies have witnessed continuous growth in thier votes \n",
    "# for the last 3 elections."
   ]
  },
  {
   "cell_type": "code",
   "execution_count": 51,
   "id": "619ff299",
   "metadata": {},
   "outputs": [
    {
     "name": "stdout",
     "output_type": "stream",
     "text": [
      "[3, 5, 8, 14, 14, 21, 23, 37, 39, 17, 54, 59, 59, 59, 59, 62, 67, 71, 89, 95, 120, 130, 16]\n"
     ]
    }
   ],
   "source": [
    "print(D11[(D11['2005-Feb'] < D11['2005-Oct']) & (D11['2005-Oct'] < D11['2010']) & (D11['2010'] < D11['2015'])]['AC No'].tolist())\n",
    "# In the case of Independent Candidates, following constituencies have witnessed continuous growth in thier votes \n",
    "# for the last 3 elections."
   ]
  },
  {
   "cell_type": "code",
   "execution_count": 52,
   "id": "d45f2ef4",
   "metadata": {},
   "outputs": [
    {
     "name": "stdout",
     "output_type": "stream",
     "text": [
      "[1, 23, 61, 83, 88, 92, 101, 115, 123, 124, 173]\n"
     ]
    }
   ],
   "source": [
    "print(E11[(E11['2005-Feb'] < E11['2005-Oct']) & (E11['2005-Oct'] < E11['2010']) & (E11['2010'] < E11['2015'])]['AC No'].tolist())\n",
    "# In the case of Janata Dal (United)l, following constituencies have witnessed continuous growth in thier votes \n",
    "# for the last 3 elections."
   ]
  },
  {
   "cell_type": "code",
   "execution_count": 53,
   "id": "c93782c5",
   "metadata": {},
   "outputs": [
    {
     "name": "stdout",
     "output_type": "stream",
     "text": [
      "[16, 25, 28, 39, 17]\n"
     ]
    }
   ],
   "source": [
    "print(F11[(F11['2005-Feb'] < F11['2005-Oct']) & (F11['2005-Oct'] < F11['2010']) & (F11['2010'] < F11['2015'])]['AC No'].tolist())\n",
    "# In the case of Lok Jan Shakti Party, following constituencies have witnessed continuous growth in thier votes \n",
    "# for the last 3 elections."
   ]
  },
  {
   "cell_type": "code",
   "execution_count": 54,
   "id": "fc0cc0cf",
   "metadata": {},
   "outputs": [
    {
     "name": "stdout",
     "output_type": "stream",
     "text": [
      "[3, 5, 21, 31, 71, 79, 113, 145]\n"
     ]
    }
   ],
   "source": [
    "print(G11[(G11['2005-Feb'] < G11['2005-Oct']) & (G11['2005-Oct'] < G11['2010']) & (G11['2010'] < G11['2015'])]['AC No'].tolist())\n",
    "# In the case of Bharatiya Janta Party, following constituencies have witnessed continuous growth in thier votes \n",
    "# for the last 3 elections."
   ]
  },
  {
   "cell_type": "code",
   "execution_count": 55,
   "id": "43ba156e",
   "metadata": {},
   "outputs": [
    {
     "name": "stdout",
     "output_type": "stream",
     "text": [
      "[]\n"
     ]
    }
   ],
   "source": [
    "print(H11[(H11['2005-Feb'] < H11['2005-Oct']) & (H11['2005-Oct'] < H11['2010']) & (H11['2010'] < H11['2015'])]['AC No'].tolist())\n",
    "# In the case of Indian National Congress, there is no constituency that has witnessed continuous growth in thier votes \n",
    "# for the last 3 elections."
   ]
  },
  {
   "cell_type": "code",
   "execution_count": 56,
   "id": "6d488c94",
   "metadata": {},
   "outputs": [
    {
     "name": "stdout",
     "output_type": "stream",
     "text": [
      "[169, 199]\n"
     ]
    }
   ],
   "source": [
    "print(I11[(I11['2005-Feb'] < I11['2005-Oct']) & (I11['2005-Oct'] < I11['2010']) & (I11['2010'] < I11['2015'])]['AC No'].tolist())\n",
    "# In the case of Bahujan Samaj Party, following constituencies have witnessed continuous growth in thier votes \n",
    "# for the last 3 elections."
   ]
  },
  {
   "cell_type": "code",
   "execution_count": 57,
   "id": "3b40b575",
   "metadata": {},
   "outputs": [
    {
     "name": "stdout",
     "output_type": "stream",
     "text": [
      "[62]\n"
     ]
    }
   ],
   "source": [
    "print(J11[(J11['2005-Feb'] < J11['2005-Oct']) & (J11['2005-Oct'] < J11['2010']) & (J11['2010'] < J11['2015'])]['AC No'].tolist())\n",
    "# In the case of Samajwadi Party, following constituencies have witnessed continuous growth in thier votes \n",
    "# for the last 3 elections."
   ]
  },
  {
   "cell_type": "markdown",
   "id": "eb7333b8",
   "metadata": {},
   "source": [
    "i. Find the declining seats. Repeat exercise g for the opposite growth.\n"
   ]
  },
  {
   "cell_type": "code",
   "execution_count": 58,
   "id": "76f0dc93",
   "metadata": {},
   "outputs": [
    {
     "name": "stdout",
     "output_type": "stream",
     "text": [
      "[]\n"
     ]
    }
   ],
   "source": [
    "print(C11[(C11['2005-Feb'] > C11['2005-Oct']) & (C11['2005-Oct'] > C11['2010']) & (C11['2010'] > C11['2015'])]['AC No'].tolist())\n",
    "# In the case of Rashtriya Janata Dal, there is no constituency that has witnessed continuous decline in thier votes \n",
    "# for the last 3 elections."
   ]
  },
  {
   "cell_type": "code",
   "execution_count": 59,
   "id": "aed09c3f",
   "metadata": {},
   "outputs": [
    {
     "name": "stdout",
     "output_type": "stream",
     "text": [
      "[7, 7, 8, 9, 18, 18, 23, 28, 34, 38, 39, 41, 47, 59, 66, 66, 66, 71, 74, 74, 78, 83, 86, 86, 87, 92, 106, 109, 110, 110, 118, 120, 120, 122, 124]\n"
     ]
    }
   ],
   "source": [
    "print(D11[(D11['2005-Feb'] > D11['2005-Oct']) & (D11['2005-Oct'] > D11['2010']) & (D11['2010'] > D11['2015'])]['AC No'].tolist())\n",
    "# In the case of Independent Candidates, following constituencies have witnessed continuous decline in thier votes \n",
    "# for the last 3 elections."
   ]
  },
  {
   "cell_type": "code",
   "execution_count": 60,
   "id": "bdeb6f33",
   "metadata": {},
   "outputs": [
    {
     "name": "stdout",
     "output_type": "stream",
     "text": [
      "[41, 176]\n"
     ]
    }
   ],
   "source": [
    "print(E11[(E11['2005-Feb'] > E11['2005-Oct']) & (E11['2005-Oct'] > E11['2010']) & (E11['2010'] > E11['2015'])]['AC No'].tolist())\n",
    "# In the case of Janata Dal (United)l, following constituencies have witnessed continuous decline in thier votes \n",
    "# for the last 3 elections."
   ]
  },
  {
   "cell_type": "code",
   "execution_count": 61,
   "id": "0c6be827",
   "metadata": {},
   "outputs": [
    {
     "name": "stdout",
     "output_type": "stream",
     "text": [
      "[]\n"
     ]
    }
   ],
   "source": [
    "print(F11[(F11['2005-Feb'] > F11['2005-Oct']) & (F11['2005-Oct'] > F11['2010']) & (F11['2010'] > F11['2015'])]['AC No'].tolist())\n",
    "# In the case of Lok Jan Shakti Party, there is no constituency that has witnessed continuous decline in thier votes \n",
    "# for the last 3 elections."
   ]
  },
  {
   "cell_type": "code",
   "execution_count": 62,
   "id": "11ff5f18",
   "metadata": {},
   "outputs": [
    {
     "name": "stdout",
     "output_type": "stream",
     "text": [
      "[69]\n"
     ]
    }
   ],
   "source": [
    "print(G11[(G11['2005-Feb'] > G11['2005-Oct']) & (G11['2005-Oct'] > G11['2010']) & (G11['2010'] > G11['2015'])]['AC No'].tolist())\n",
    "# In the case of Bharatiya Janta Party, following constituencies have witnessed continuous decline in thier votes \n",
    "# for the last 3 elections."
   ]
  },
  {
   "cell_type": "code",
   "execution_count": 63,
   "id": "f05a5031",
   "metadata": {},
   "outputs": [
    {
     "name": "stdout",
     "output_type": "stream",
     "text": [
      "[]\n"
     ]
    }
   ],
   "source": [
    "print(H11[(H11['2005-Feb'] > H11['2005-Oct']) & (H11['2005-Oct'] > H11['2010']) & (H11['2010'] > H11['2015'])]['AC No'].tolist())\n",
    "# In the case of Indian National Congress, there is no constituency that has witnessed continuous decline in thier votes \n",
    "# for the last 3 elections."
   ]
  },
  {
   "cell_type": "code",
   "execution_count": 64,
   "id": "573d93d7",
   "metadata": {},
   "outputs": [
    {
     "name": "stdout",
     "output_type": "stream",
     "text": [
      "[3, 8, 21, 23, 24, 26, 27, 56, 58, 67, 68, 76, 83, 91, 97, 108, 110, 128, 139, 146, 153, 170, 171, 182]\n"
     ]
    }
   ],
   "source": [
    "print(I11[(I11['2005-Feb'] > I11['2005-Oct']) & (I11['2005-Oct'] > I11['2010']) & (I11['2010'] > I11['2015'])]['AC No'].tolist())\n",
    "# In the case of Bahujan Samaj Party, following constituencies have witnessed continuous decline in thier votes \n",
    "# for the last 3 elections."
   ]
  },
  {
   "cell_type": "code",
   "execution_count": 65,
   "id": "ff8f0a10",
   "metadata": {},
   "outputs": [
    {
     "name": "stdout",
     "output_type": "stream",
     "text": [
      "[3, 13, 18, 68, 73, 82, 117, 124, 134, 138, 139, 203]\n"
     ]
    }
   ],
   "source": [
    "print(J11[(J11['2005-Feb'] > J11['2005-Oct']) & (J11['2005-Oct'] > J11['2010']) & (J11['2010'] > J11['2015'])]['AC No'].tolist())\n",
    "# In the case of Samajwadi Party, following constituencies have witnessed continuous decline in thier votes \n",
    "# for the last 3 elections."
   ]
  },
  {
   "cell_type": "markdown",
   "id": "d73f6de5",
   "metadata": {},
   "source": [
    "j. Determine the state-winner-match constituencies. Find the seats which have\n",
    "always elected the party that has gone on to win the state election (most votes\n",
    "secured at state). So if the RJD won at the state level in 2010, then seats which\n",
    "voted an RJD candidate as winner are considered in this category. This criteria\n",
    "for a seat has to be matched for each election."
   ]
  },
  {
   "cell_type": "code",
   "execution_count": 66,
   "id": "95b0c43c",
   "metadata": {},
   "outputs": [],
   "source": [
    "# Considering results from question a. :\n",
    "# 2005-Feb Election was won by Rashtriya Janata Dal.\n",
    "# 2005-Oct Election was won by Rashtriya Janata Dal.\n",
    "# 2010 Election was won by Janata Dal (United).\n",
    "# 2015 Election was won by Bharatiya Janta Party."
   ]
  },
  {
   "cell_type": "code",
   "execution_count": 67,
   "id": "4b20277c",
   "metadata": {},
   "outputs": [
    {
     "name": "stdout",
     "output_type": "stream",
     "text": [
      "[1, 11, 15, 16, 22, 26, 27, 29, 32, 43, 44, 46, 50, 53, 55, 60, 61, 63, 64, 66, 70, 71, 77, 79, 82, 85, 86, 87, 88, 91, 92, 93, 96, 100, 102, 103, 114, 115, 128, 135, 137, 142, 145, 147, 151, 152, 154, 156, 157, 161, 162, 169, 170, 185, 192, 193, 199, 200, 208, 210, 211, 212, 213, 217, 218, 221, 222, 227, 229, 234, 235, 236, 237, 238, 240]\n"
     ]
    }
   ],
   "source": [
    "print(df1[(df1['Position'] == 1) & (df1['Party'] == 'Rashtriya Janata Dal')]['AC No'].tolist())\n",
    "# Following is the list of constituencies which voted for the candidate belonging to the party - Rashtriya Janata Dal \n",
    "# which won the 2005-Feb state elections."
   ]
  },
  {
   "cell_type": "code",
   "execution_count": 68,
   "id": "f02510bc",
   "metadata": {},
   "outputs": [
    {
     "name": "stdout",
     "output_type": "stream",
     "text": [
      "[1, 15, 18, 22, 26, 27, 28, 38, 44, 46, 49, 50, 60, 61, 65, 66, 70, 71, 83, 84, 85, 87, 88, 91, 92, 96, 97, 98, 100, 102, 124, 125, 135, 145, 147, 152, 154, 158, 161, 172, 192, 193, 196, 200, 210, 213, 221, 222, 226, 227, 229, 234, 237, 238]\n"
     ]
    }
   ],
   "source": [
    "print(df2[(df2['Position'] == 1) & (df2['Party'] == 'Rashtriya Janata Dal')]['AC No'].tolist())\n",
    "# Following is the list of constituencies which voted for the candidate belonging to the party - Rashtriya Janata Dal \n",
    "# which won the 2005-Oct state elections."
   ]
  },
  {
   "cell_type": "code",
   "execution_count": 69,
   "id": "d15e2913",
   "metadata": {},
   "outputs": [
    {
     "name": "stdout",
     "output_type": "stream",
     "text": [
      "[1, 4, 6, 12, 14, 16, 17, 18, 22, 26, 27, 29, 30, 31, 38, 39, 40, 41, 17, 43, 44, 45, 50, 60, 61, 67, 70, 71, 72, 74, 76, 79, 85, 90, 91, 92, 93, 95, 98, 99, 102, 104, 109, 110, 112, 113, 114, 120, 121, 124, 125, 126, 127, 128, 16, 132, 135, 136, 138, 140, 141, 144, 145, 148, 149, 150, 153, 157, 158, 159, 160, 163, 164, 165, 166, 169, 170, 171, 172, 174, 175, 176, 177, 178, 179, 181, 188, 189, 196, 201, 202, 204, 207, 209, 210, 213, 215, 216, 217, 218, 219, 221, 222, 224, 226, 227, 228, 231, 233, 237, 238, 239, 240, 241, 242]\n"
     ]
    }
   ],
   "source": [
    "print(df3[(df3['Position'] == 1) & (df3['Party'] == 'Janata Dal (United)')]['AC No'].tolist())\n",
    "# Following is the list of constituencies which voted for the candidate belonging to the party - Janata Dal (United) \n",
    "# which won the 2010 state elections."
   ]
  },
  {
   "cell_type": "code",
   "execution_count": 70,
   "id": "e071bfea",
   "metadata": {},
   "outputs": [
    {
     "name": "stdout",
     "output_type": "stream",
     "text": [
      "[2, 4, 5, 6, 7, 10, 11, 16, 17, 18, 19, 20, 96, 25, 37, 45, 48, 51, 59, 62, 63, 66, 83, 87, 93, 94, 97, 99, 101, 105, 118, 120, 123, 161, 168, 71, 179, 180, 181, 182, 183, 184, 186, 203, 204, 8, 206, 219, 225, 230, 236, 239, 242]\n"
     ]
    }
   ],
   "source": [
    "print(df4[(df4['Position'] == 1) & (df4['Party'] == 'Bharatiya Janta Party')]['AC No'].tolist())\n",
    "# Following is the list of constituencies which voted for the candidate belonging to the party - Bharatiya Janta Party \n",
    "# which won the 2015 state elections."
   ]
  }
 ],
 "metadata": {
  "kernelspec": {
   "display_name": "Python 3",
   "language": "python",
   "name": "python3"
  },
  "language_info": {
   "codemirror_mode": {
    "name": "ipython",
    "version": 3
   },
   "file_extension": ".py",
   "mimetype": "text/x-python",
   "name": "python",
   "nbconvert_exporter": "python",
   "pygments_lexer": "ipython3",
   "version": "3.8.8"
  }
 },
 "nbformat": 4,
 "nbformat_minor": 5
}
